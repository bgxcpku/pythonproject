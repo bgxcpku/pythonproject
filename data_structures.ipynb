{
 "metadata": {
  "name": "",
  "signature": "sha256:0929e062ba0b2f7c2196c3b10001dac75339ce6f6d093efb872cb0714286c0db"
 },
 "nbformat": 3,
 "nbformat_minor": 0,
 "worksheets": [
  {
   "cells": [
    {
     "cell_type": "markdown",
     "metadata": {},
     "source": [
      "# Python Data Structures!\n",
      "\n",
      "# Numbers!"
     ]
    },
    {
     "cell_type": "code",
     "collapsed": false,
     "input": [
      "# ints\n",
      "a = 3\n",
      "b = 5 \n",
      "print \"a =\", a\n",
      "print \"b =\", b\n",
      "print \"a + b =\", a + b\n",
      "print \"a - b =\", a - b\n",
      "print \"a * b =\", a * b\n",
      "print \"a^b =\", a**b  # a to the power of b\n",
      "print\n",
      "\n",
      "print \"Integer division is weird!\"\n",
      "print \"a / b = \", a / b \n",
      "print \"b / a = \", b / a\n",
      "print \n",
      "\n",
      "# floats\n",
      "print \"Float division is less weird\"\n",
      "print \"float(a) / b =\", float(a) / b\n",
      "print \"float(b) / a =\", float(b) / a\n",
      "print \"float(a/b) =\", float(a/b), \"Careful with the parens!\"\n",
      "print \n",
      "\n",
      "c = 3.\n",
      "d = 5.\n",
      "print \"c =\", c\n",
      "print \"d =\", d\n",
      "print \"c / d =\", c/d"
     ],
     "language": "python",
     "metadata": {},
     "outputs": [
      {
       "output_type": "stream",
       "stream": "stdout",
       "text": [
        "a = 3\n",
        "b = 5\n",
        "a + b = 8\n",
        "a - b = -2\n",
        "a * b = 15\n",
        "a^b = 243\n",
        "\n",
        "Integer division is weird!\n",
        "a / b =  0\n",
        "b / a =  1\n",
        "\n",
        "Float division is less weird\n",
        "float(a) / b = 0.6\n",
        "float(b) / a = 1.66666666667\n",
        "float(a/b) = 0.0 Careful with the parens!\n",
        "\n",
        "c = 3.0\n",
        "d = 5.0\n",
        "c / d = 0.6\n"
       ]
      }
     ],
     "prompt_number": 21
    },
    {
     "cell_type": "markdown",
     "metadata": {},
     "source": [
      "As you can see, an `int` is an integer (no decimal places) and a `float` can have decimal places. When you declare a variable, like with `a = 3`, if the number has no decimal point, Python assumes you want an `int`. When I typed `a = 3.0` (or just `a = 3.`), Python inferred that I wanted a `float`. As seen above, integer division gives you only the number to the left of the decimal in the resulting quotient. Feel free to mess around."
     ]
    },
    {
     "cell_type": "markdown",
     "metadata": {},
     "source": [
      "# Strings! \n",
      "Learning how to manipulate strings is especially useful for web scraping and data wrangling. Here are some basic examples of things you can do with strings."
     ]
    },
    {
     "cell_type": "code",
     "collapsed": false,
     "input": [
      "# Declare some strings\n",
      "hi = \"Hello\"\n",
      "everyone = \"world\"\n",
      "shopping = \"eggs,fish,cheese,bread,pineapple,lamp\"\n",
      "\n",
      "print hi\n",
      "print everyone\n",
      "print shopping"
     ],
     "language": "python",
     "metadata": {},
     "outputs": [
      {
       "output_type": "stream",
       "stream": "stdout",
       "text": [
        "Hello\n",
        "world\n",
        "eggs,fish,cheese,bread,pineapple,lamp\n"
       ]
      }
     ],
     "prompt_number": 25
    },
    {
     "cell_type": "code",
     "collapsed": false,
     "input": [
      "# You can get particular letters from a string like so:\n",
      "print hi[0]\n",
      "print hi[1]\n",
      "print hi[2]\n",
      "print hi[3]\n",
      "print hi[4]\n",
      "print hi[5]  # Too far!!"
     ],
     "language": "python",
     "metadata": {},
     "outputs": [
      {
       "output_type": "stream",
       "stream": "stdout",
       "text": [
        "H\n",
        "e\n",
        "l\n",
        "l\n",
        "o\n"
       ]
      },
      {
       "ename": "IndexError",
       "evalue": "string index out of range",
       "output_type": "pyerr",
       "traceback": [
        "\u001b[0;31m---------------------------------------------------------------------------\u001b[0m\n\u001b[0;31mIndexError\u001b[0m                                Traceback (most recent call last)",
        "\u001b[0;32m<ipython-input-28-15de0194ad49>\u001b[0m in \u001b[0;36m<module>\u001b[0;34m()\u001b[0m\n\u001b[1;32m      5\u001b[0m \u001b[0;32mprint\u001b[0m \u001b[0mhi\u001b[0m\u001b[0;34m[\u001b[0m\u001b[0;36m3\u001b[0m\u001b[0;34m]\u001b[0m\u001b[0;34m\u001b[0m\u001b[0m\n\u001b[1;32m      6\u001b[0m \u001b[0;32mprint\u001b[0m \u001b[0mhi\u001b[0m\u001b[0;34m[\u001b[0m\u001b[0;36m4\u001b[0m\u001b[0;34m]\u001b[0m\u001b[0;34m\u001b[0m\u001b[0m\n\u001b[0;32m----> 7\u001b[0;31m \u001b[0;32mprint\u001b[0m \u001b[0mhi\u001b[0m\u001b[0;34m[\u001b[0m\u001b[0;36m5\u001b[0m\u001b[0;34m]\u001b[0m\u001b[0;34m\u001b[0m\u001b[0m\n\u001b[0m",
        "\u001b[0;31mIndexError\u001b[0m: string index out of range"
       ]
      }
     ],
     "prompt_number": 28
    },
    {
     "cell_type": "code",
     "collapsed": false,
     "input": [
      "# You can \"slice\" a string (AKA get a substring) thusly:\n",
      "print hi[1:4]  # 2nd, 3rd, and 4th letters\n",
      "print hi[3:]   # 4th letter to the end of the string\n",
      "print hi[:2]   # beginning of the string through the second letter\n",
      "print hi[:]    # the whole darn thing"
     ],
     "language": "python",
     "metadata": {},
     "outputs": [
      {
       "output_type": "stream",
       "stream": "stdout",
       "text": [
        "ell\n",
        "lo\n",
        "He\n",
        "Hello\n"
       ]
      }
     ],
     "prompt_number": 33
    },
    {
     "cell_type": "code",
     "collapsed": false,
     "input": [
      "# You can do math with strings (sort of)\n",
      "print hi + \" \" + everyone  # '+' concatenates strings\n",
      "print hi * 3"
     ],
     "language": "python",
     "metadata": {},
     "outputs": [
      {
       "output_type": "stream",
       "stream": "stdout",
       "text": [
        "Hello world\n",
        "HelloHelloHello\n"
       ]
      }
     ],
     "prompt_number": 39
    },
    {
     "cell_type": "code",
     "collapsed": false,
     "input": [
      "# But these don't work!\n",
      "hi + 3\n",
      "hi - 3\n",
      "hi - hi\n",
      "hi * hi"
     ],
     "language": "python",
     "metadata": {},
     "outputs": [
      {
       "ename": "TypeError",
       "evalue": "can't multiply sequence by non-int of type 'str'",
       "output_type": "pyerr",
       "traceback": [
        "\u001b[0;31m---------------------------------------------------------------------------\u001b[0m\n\u001b[0;31mTypeError\u001b[0m                                 Traceback (most recent call last)",
        "\u001b[0;32m<ipython-input-41-057dc1ff7044>\u001b[0m in \u001b[0;36m<module>\u001b[0;34m()\u001b[0m\n\u001b[1;32m      3\u001b[0m \u001b[0;31m# hi - 3\u001b[0m\u001b[0;34m\u001b[0m\u001b[0;34m\u001b[0m\u001b[0m\n\u001b[1;32m      4\u001b[0m \u001b[0;31m# hi - hi\u001b[0m\u001b[0;34m\u001b[0m\u001b[0;34m\u001b[0m\u001b[0m\n\u001b[0;32m----> 5\u001b[0;31m \u001b[0mhi\u001b[0m \u001b[0;34m*\u001b[0m \u001b[0mhi\u001b[0m\u001b[0;34m\u001b[0m\u001b[0m\n\u001b[0m",
        "\u001b[0;31mTypeError\u001b[0m: can't multiply sequence by non-int of type 'str'"
       ]
      }
     ],
     "prompt_number": 41
    },
    {
     "cell_type": "code",
     "collapsed": false,
     "input": [
      "# You can test to see if some string is a substring of another with\n",
      "# with `str1 in str2`\n",
      "print \"fish\" in shopping # nope \n",
      "print \"o\" in hi          # yep\n",
      "print \"feet\" in shopping # nope"
     ],
     "language": "python",
     "metadata": {},
     "outputs": [
      {
       "output_type": "stream",
       "stream": "stdout",
       "text": [
        "True\n",
        "True\n",
        "False\n"
       ]
      }
     ],
     "prompt_number": 43
    },
    {
     "cell_type": "markdown",
     "metadata": {},
     "source": [
      "__PRO TIP:__ in an IPython notebook (or in the IPython shell), do take advantage of tab-autocomplete and `help`. One of the things that I always find myself doing in notebooks like this is typing `something.` and then hitting `tab` to see all of the methods I can use. If I see a method that looks promising, say `something.method`, I'll type `something.method?` or `help(something.method)`, and it'll pop up some useful info about what that method is. I do this all the time. Like this:"
     ]
    },
    {
     "cell_type": "code",
     "collapsed": false,
     "input": [
      "help(hi.find)"
     ],
     "language": "python",
     "metadata": {},
     "outputs": [
      {
       "output_type": "stream",
       "stream": "stdout",
       "text": [
        "Help on built-in function find:\n",
        "\n",
        "find(...)\n",
        "    S.find(sub [,start [,end]]) -> int\n",
        "    \n",
        "    Return the lowest index in S where substring sub is found,\n",
        "    such that sub is contained within S[start:end].  Optional\n",
        "    arguments start and end are interpreted as in slice notation.\n",
        "    \n",
        "    Return -1 on failure.\n",
        "\n"
       ]
      }
     ],
     "prompt_number": 51
    },
    {
     "cell_type": "code",
     "collapsed": false,
     "input": [
      "print hi.upper()\n",
      "print hi.count(\"l\")\n",
      "print shopping.startswith(\"eggs\")\n",
      "print shopping.endswith(\"eggs\")\n",
      "print everyone.title()\n",
      "print hi.lower()\n",
      "print len(shopping)  # number of characters in the string"
     ],
     "language": "python",
     "metadata": {},
     "outputs": [
      {
       "output_type": "stream",
       "stream": "stdout",
       "text": [
        "HELLO\n",
        "2\n",
        "True\n",
        "False\n",
        "World\n",
        "hello\n",
        "37\n"
       ]
      }
     ],
     "prompt_number": 58
    },
    {
     "cell_type": "code",
     "collapsed": false,
     "input": [
      "# dir() is also useful to tell you all the things you can do \n",
      "# with a particular variable/object. You only really have to pay \n",
      "# attention to the ones without any underscores in front of them. \n",
      "dir(hi)"
     ],
     "language": "python",
     "metadata": {},
     "outputs": [
      {
       "metadata": {},
       "output_type": "pyout",
       "prompt_number": 53,
       "text": [
        "['__add__',\n",
        " '__class__',\n",
        " '__contains__',\n",
        " '__delattr__',\n",
        " '__doc__',\n",
        " '__eq__',\n",
        " '__format__',\n",
        " '__ge__',\n",
        " '__getattribute__',\n",
        " '__getitem__',\n",
        " '__getnewargs__',\n",
        " '__getslice__',\n",
        " '__gt__',\n",
        " '__hash__',\n",
        " '__init__',\n",
        " '__le__',\n",
        " '__len__',\n",
        " '__lt__',\n",
        " '__mod__',\n",
        " '__mul__',\n",
        " '__ne__',\n",
        " '__new__',\n",
        " '__reduce__',\n",
        " '__reduce_ex__',\n",
        " '__repr__',\n",
        " '__rmod__',\n",
        " '__rmul__',\n",
        " '__setattr__',\n",
        " '__sizeof__',\n",
        " '__str__',\n",
        " '__subclasshook__',\n",
        " '_formatter_field_name_split',\n",
        " '_formatter_parser',\n",
        " 'capitalize',\n",
        " 'center',\n",
        " 'count',\n",
        " 'decode',\n",
        " 'encode',\n",
        " 'endswith',\n",
        " 'expandtabs',\n",
        " 'find',\n",
        " 'format',\n",
        " 'index',\n",
        " 'isalnum',\n",
        " 'isalpha',\n",
        " 'isdigit',\n",
        " 'islower',\n",
        " 'isspace',\n",
        " 'istitle',\n",
        " 'isupper',\n",
        " 'join',\n",
        " 'ljust',\n",
        " 'lower',\n",
        " 'lstrip',\n",
        " 'partition',\n",
        " 'replace',\n",
        " 'rfind',\n",
        " 'rindex',\n",
        " 'rjust',\n",
        " 'rpartition',\n",
        " 'rsplit',\n",
        " 'rstrip',\n",
        " 'split',\n",
        " 'splitlines',\n",
        " 'startswith',\n",
        " 'strip',\n",
        " 'swapcase',\n",
        " 'title',\n",
        " 'translate',\n",
        " 'upper',\n",
        " 'zfill']"
       ]
      }
     ],
     "prompt_number": 53
    },
    {
     "cell_type": "code",
     "collapsed": false,
     "input": [
      "# the .split() method is really useful. \n",
      "shopping_list = shopping.split(\",\")\n",
      "print shopping_list"
     ],
     "language": "python",
     "metadata": {},
     "outputs": [
      {
       "output_type": "stream",
       "stream": "stdout",
       "text": [
        "['eggs', 'fish', 'cheese', 'bread', 'pineapple', 'lamp']\n"
       ]
      }
     ],
     "prompt_number": 56
    },
    {
     "cell_type": "markdown",
     "metadata": {},
     "source": [
      "This segues nicely to our next data structure, \n",
      "# Lists!\n",
      "A list in Python is an ordered collection of objects. The objects can be of any type (strings, ints, floats, lists, anything)!"
     ]
    },
    {
     "cell_type": "code",
     "collapsed": false,
     "input": [
      "# Some things you can do with lists\n",
      "print shopping_list\n",
      "print sorted(shopping_list)\n",
      "print list(reversed(shopping_list))\n",
      "print len(shopping_list)"
     ],
     "language": "python",
     "metadata": {},
     "outputs": [
      {
       "output_type": "stream",
       "stream": "stdout",
       "text": [
        "['eggs', 'fish', 'cheese', 'bread', 'pineapple', 'lamp']\n",
        "['bread', 'cheese', 'eggs', 'fish', 'lamp', 'pineapple']\n",
        "['lamp', 'pineapple', 'bread', 'cheese', 'fish', 'eggs']\n",
        "6\n"
       ]
      }
     ],
     "prompt_number": 64
    },
    {
     "cell_type": "code",
     "collapsed": false,
     "input": [
      "# Slicing\n",
      "print shopping_list[1]\n",
      "print shopping_list[-1]\n",
      "print shopping_list[2:4]"
     ],
     "language": "python",
     "metadata": {},
     "outputs": [
      {
       "output_type": "stream",
       "stream": "stdout",
       "text": [
        "fish\n",
        "lamp\n",
        "['cheese', 'bread']\n"
       ]
      }
     ],
     "prompt_number": 65
    },
    {
     "cell_type": "code",
     "collapsed": false,
     "input": [
      "# Finding stuff\n",
      "print \"eggs\" in shopping_list\n",
      "print \"cat\" in shopping_list\n",
      "print shopping_list.index(\"bread\")"
     ],
     "language": "python",
     "metadata": {},
     "outputs": [
      {
       "output_type": "stream",
       "stream": "stdout",
       "text": [
        "True\n",
        "False\n",
        "3\n"
       ]
      }
     ],
     "prompt_number": 70
    },
    {
     "cell_type": "code",
     "collapsed": false,
     "input": [
      "# You can change the list in place!\n",
      "print shopping_list\n",
      "\n",
      "# Add some salt\n",
      "shopping_list.append(\"salt\")\n",
      "print shopping_list"
     ],
     "language": "python",
     "metadata": {},
     "outputs": [
      {
       "output_type": "stream",
       "stream": "stdout",
       "text": [
        "['eggs', 'fish', 'cheese', 'bread', 'pineapple', 'lamp']\n",
        "['eggs', 'fish', 'cheese', 'bread', 'pineapple', 'lamp', 'salt']\n"
       ]
      }
     ],
     "prompt_number": 72
    },
    {
     "cell_type": "code",
     "collapsed": false,
     "input": [
      "# Get rid of the salt\n",
      "more_stuff = [\"onions\", \"peppers\"]\n",
      "shopping_list.extend(more_stuff)\n",
      "print shopping_list"
     ],
     "language": "python",
     "metadata": {},
     "outputs": [
      {
       "output_type": "stream",
       "stream": "stdout",
       "text": [
        "['eggs', 'fish', 'cheese', 'bread', 'pineapple', 'lamp', 'salt', 'onions', 'peppers']\n"
       ]
      }
     ],
     "prompt_number": 73
    },
    {
     "cell_type": "code",
     "collapsed": false,
     "input": [
      "p = shopping_list.pop()  # removes the last element of the list\n",
      "print \"p:\", p\n",
      "print \"shopping list:\", shopping_list"
     ],
     "language": "python",
     "metadata": {},
     "outputs": [
      {
       "output_type": "stream",
       "stream": "stdout",
       "text": [
        "p: peppers\n",
        "shopping list: ['eggs', 'fish', 'cheese', 'bread', 'pineapple', 'lamp', 'salt', 'onions']\n"
       ]
      }
     ],
     "prompt_number": 76
    },
    {
     "cell_type": "code",
     "collapsed": false,
     "input": [
      "print \",\".join(shopping_list)    "
     ],
     "language": "python",
     "metadata": {},
     "outputs": [
      {
       "output_type": "stream",
       "stream": "stdout",
       "text": [
        "eggs,fish,cheese,bread,pineapple,lamp,salt,onions\n"
       ]
      }
     ],
     "prompt_number": 77
    },
    {
     "cell_type": "markdown",
     "metadata": {},
     "source": [
      "# Sets!\n",
      "Sets are like lists, except that they're unordered, and you can't have duplicate entries in a set."
     ]
    },
    {
     "cell_type": "code",
     "collapsed": false,
     "input": [
      "shopping_set = set(shopping_list)\n",
      "print shopping_set"
     ],
     "language": "python",
     "metadata": {},
     "outputs": [
      {
       "output_type": "stream",
       "stream": "stdout",
       "text": [
        "set(['cheese', 'onions', 'eggs', 'lamp', 'pineapple', 'salt', 'fish', 'bread'])\n"
       ]
      }
     ],
     "prompt_number": 80
    },
    {
     "cell_type": "code",
     "collapsed": false,
     "input": [
      "shopping_set.add(\"onions\")  # does nothing since onions is already in there\n",
      "print shopping_set"
     ],
     "language": "python",
     "metadata": {},
     "outputs": [
      {
       "output_type": "stream",
       "stream": "stdout",
       "text": [
        "set(['cheese', 'onions', 'eggs', 'lamp', 'pineapple', 'salt', 'fish', 'bread'])\n"
       ]
      }
     ],
     "prompt_number": 81
    },
    {
     "cell_type": "code",
     "collapsed": false,
     "input": [
      "shopping_set.remove(\"eggs\")\n",
      "print shopping_set"
     ],
     "language": "python",
     "metadata": {},
     "outputs": [
      {
       "output_type": "stream",
       "stream": "stdout",
       "text": [
        "set(['cheese', 'onions', 'lamp', 'pineapple', 'salt', 'fish', 'bread'])\n"
       ]
      }
     ],
     "prompt_number": 82
    },
    {
     "cell_type": "code",
     "collapsed": false,
     "input": [
      "# Another set of foods. You can declare a set \n",
      "# using either set(some_list) or {thing1, thing2, ...}\n",
      "foods = {\n",
      "    \"cheese\",\n",
      "    \"chips\",\n",
      "    \"vinegar\",\n",
      "    \"flour\",\n",
      "    \"pancakes\"\n",
      "}"
     ],
     "language": "python",
     "metadata": {},
     "outputs": [],
     "prompt_number": 83
    },
    {
     "cell_type": "code",
     "collapsed": false,
     "input": [
      "print \"intersection:\", foods.intersection(shopping_set)\n",
      "print \"missing from my list:\", foods.difference(shopping_set)\n",
      "print \"union:\", foods.union(shopping_list)\n",
      "print \"in my list not in foods: \", shopping_set - foods"
     ],
     "language": "python",
     "metadata": {},
     "outputs": [
      {
       "output_type": "stream",
       "stream": "stdout",
       "text": [
        "intersection: set(['cheese'])\n",
        "missing from my list: set(['pancakes', 'flour', 'chips', 'vinegar'])\n",
        "union: set(['vinegar', 'cheese', 'pancakes', 'flour', 'eggs', 'salt', 'lamp', 'pineapple', 'onions', 'chips', 'fish', 'bread'])\n",
        "in my list not in foods:  set(['onions', 'fish', 'lamp', 'pineapple', 'salt', 'bread'])\n"
       ]
      }
     ],
     "prompt_number": 90
    },
    {
     "cell_type": "markdown",
     "metadata": {},
     "source": [
      "# Dictionaries!\n",
      "Dictionaries allow you to store key/value pairs. To continue with the shopping example, mabye I also want to specify how many of each item I want. So I could do somthing like this"
     ]
    },
    {
     "cell_type": "code",
     "collapsed": false,
     "input": [
      "shopping_dict = {\"eggs\": 12, \"onions\": 2, \"peppers\": 4}\n",
      "print \"keys:\", shopping_dict.keys()\n",
      "print \"values:\", shopping_dict.values()\n",
      "print \"items:\", shopping_dict.items()"
     ],
     "language": "python",
     "metadata": {},
     "outputs": [
      {
       "output_type": "stream",
       "stream": "stdout",
       "text": [
        "keys: ['peppers', 'eggs', 'onions']\n",
        "values: [4, 12, 2]\n",
        "items: [('peppers', 4), ('eggs', 12), ('onions', 2)]\n"
       ]
      }
     ],
     "prompt_number": 97
    },
    {
     "cell_type": "markdown",
     "metadata": {},
     "source": [
      "This is super useful for answering questions like: \"How many eggs did I want again?\""
     ]
    },
    {
     "cell_type": "code",
     "collapsed": false,
     "input": [
      "shopping_dict[\"eggs\"]"
     ],
     "language": "python",
     "metadata": {},
     "outputs": [
      {
       "metadata": {},
       "output_type": "pyout",
       "prompt_number": 93,
       "text": [
        "12"
       ]
      }
     ],
     "prompt_number": 93
    },
    {
     "cell_type": "code",
     "collapsed": false,
     "input": [
      "# I can add items\n",
      "shopping_dict[\"shoes\"] = 2\n",
      "shopping_dict[\"fortune\"] = \"i don't know\"\n",
      "print shopping_dict"
     ],
     "language": "python",
     "metadata": {},
     "outputs": [
      {
       "output_type": "stream",
       "stream": "stdout",
       "text": [
        "{'peppers': 4, 'fortune': \"i don't know\", 'eggs': 12, 'onions': 2, 'shoes': 2}\n"
       ]
      }
     ],
     "prompt_number": 100
    },
    {
     "cell_type": "code",
     "collapsed": false,
     "input": [
      "# Get rid of that fortune\n",
      "del shopping_dict[\"fortune\"]\n",
      "print shopping_dict"
     ],
     "language": "python",
     "metadata": {},
     "outputs": [
      {
       "output_type": "stream",
       "stream": "stdout",
       "text": [
        "{'peppers': 4, 'eggs': 12, 'onions': 2, 'shoes': 2}\n"
       ]
      }
     ],
     "prompt_number": 102
    },
    {
     "cell_type": "code",
     "collapsed": false,
     "input": [
      "# Something fun\n",
      "def go_shopping(shopping_dictionary):\n",
      "    \"\"\"\n",
      "    Given a shopping dictionary, buy \n",
      "    all the items and report the total number\n",
      "    of items\n",
      "    \"\"\"\n",
      "    total = 0\n",
      "    for item, quantity in shopping_dictionary.items():\n",
      "        print \"Looking for\", item, \"...\"\n",
      "        print \"Buying\", quantity, \"of them\"\n",
      "        total += quantity\n",
      "    \n",
      "    print \"Total items:\", total"
     ],
     "language": "python",
     "metadata": {},
     "outputs": [],
     "prompt_number": 105
    },
    {
     "cell_type": "code",
     "collapsed": false,
     "input": [
      "go_shopping(shopping_dict)"
     ],
     "language": "python",
     "metadata": {},
     "outputs": [
      {
       "output_type": "stream",
       "stream": "stdout",
       "text": [
        "Looking for peppers ...\n",
        "Buying 4 of them\n",
        "Looking for eggs ...\n",
        "Buying 12 of them\n",
        "Looking for onions ...\n",
        "Buying 2 of them\n",
        "Looking for shoes ...\n",
        "Buying 2 of them\n",
        "Total items: 20\n"
       ]
      }
     ],
     "prompt_number": 106
    },
    {
     "cell_type": "code",
     "collapsed": false,
     "input": [],
     "language": "python",
     "metadata": {},
     "outputs": []
    }
   ],
   "metadata": {}
  }
 ]
}